{
  "nbformat": 4,
  "nbformat_minor": 0,
  "metadata": {
    "colab": {
      "provenance": [],
      "authorship_tag": "ABX9TyMckuYYyxqrHwIE+uDC+4Hf",
      "include_colab_link": true
    },
    "kernelspec": {
      "name": "python3",
      "display_name": "Python 3"
    },
    "language_info": {
      "name": "python"
    }
  },
  "cells": [
    {
      "cell_type": "markdown",
      "metadata": {
        "id": "view-in-github",
        "colab_type": "text"
      },
      "source": [
        "<a href=\"https://colab.research.google.com/github/RaThapa/-CE305-_week-4-_q-1-_19990_Rasila_Thapa/blob/main/Midterm_.ipynb\" target=\"_parent\"><img src=\"https://colab.research.google.com/assets/colab-badge.svg\" alt=\"Open In Colab\"/></a>"
      ]
    },
    {
      "cell_type": "markdown",
      "source": [
        "Rasila Thapa (19990)"
      ],
      "metadata": {
        "id": "BNWynyyo-5WJ"
      }
    },
    {
      "cell_type": "code",
      "source": [
        "#2\n",
        "\n",
        "def Ton(now):\n",
        "   then = 42\n",
        "   def no(know):\n",
        "       no = then\n",
        "       return know * now(know)\n",
        "   return no\n",
        "\n",
        "\n",
        "then, no = 7, 4\n",
        "now = lambda oh: oh * no\n",
        "ok = Ton(now)(no)\n",
        "ok\n",
        "\n"
      ],
      "metadata": {
        "colab": {
          "base_uri": "https://localhost:8080/"
        },
        "id": "nUDn7hyYj2Sq",
        "outputId": "beb46bff-1936-4eb2-ac2c-35ca93250d3f"
      },
      "execution_count": 31,
      "outputs": [
        {
          "output_type": "execute_result",
          "data": {
            "text/plain": [
              "64"
            ]
          },
          "metadata": {},
          "execution_count": 31
        }
      ]
    },
    {
      "cell_type": "code",
      "source": [
        "#3\n",
        "\n",
        "wow = 6\n",
        "def much(wow):\n",
        "   if much == wow:\n",
        "       such = lambda wow:5\n",
        "       def wow ():\n",
        "           return such\n",
        "       return      wow\n",
        "   such = lambda wow:4\n",
        "   return wow()\n",
        "   wow = much(much(much))(wow)\n",
        "   wow\n",
        "   print(wow)\n"
      ],
      "metadata": {
        "id": "5nbLjdND92as"
      },
      "execution_count": 32,
      "outputs": []
    },
    {
      "cell_type": "code",
      "source": [
        "#4\n",
        "def   horn(hood):\n",
        " horn = hood\n",
        " def  hood (horn):\n",
        "   return horn\n",
        " return horn(hood)\n",
        "\n",
        "\n",
        "hood = lambda horn: horn(2)\n",
        "horn (hood)\n"
      ],
      "metadata": {
        "colab": {
          "base_uri": "https://localhost:8080/"
        },
        "id": "XQElHVdN-Csz",
        "outputId": "149abda8-6af3-407d-aff6-c0d5853c6178"
      },
      "execution_count": 33,
      "outputs": [
        {
          "output_type": "execute_result",
          "data": {
            "text/plain": [
              "2"
            ]
          },
          "metadata": {},
          "execution_count": 33
        }
      ]
    },
    {
      "cell_type": "code",
      "source": [
        "#5\n",
        "\n",
        "pear = \"ni\"\n",
        "\n",
        "\n",
        "def apple(banana):\n",
        "   def plum(peach):\n",
        "       pear = lambda pear: peach(pear)\n",
        "       return pear\n",
        "   return plum(banana)(\"ck\")\n",
        "   apple(lambda peach: pear + peach)\n",
        "   print (apple)\n"
      ],
      "metadata": {
        "id": "eyxX2gFi-S-b"
      },
      "execution_count": 34,
      "outputs": []
    },
    {
      "cell_type": "code",
      "source": [
        "#6\n",
        "x = \"x\"\n",
        "g = x\n",
        "\n",
        "\n",
        "def x(x):\n",
        "   g = \"h\"\n",
        "   if x == g:\n",
        "       return x + \"i\"\n",
        "   x = lambda x: x(g)\n",
        "   return lambda g: x(g)\n",
        "\n",
        "\n",
        "x = x(x)(x)\n",
        "print(x)\n"
      ],
      "metadata": {
        "colab": {
          "base_uri": "https://localhost:8080/"
        },
        "id": "AFfqlYR8-Sav",
        "outputId": "fe9c1c76-e7e7-4234-eb7f-cd192119797c"
      },
      "execution_count": 36,
      "outputs": [
        {
          "output_type": "stream",
          "name": "stdout",
          "text": [
            "hi\n"
          ]
        }
      ]
    },
    {
      "cell_type": "code",
      "source": [
        "#7\n",
        "import math\n",
        "\n",
        "\n",
        "def nrst_two(x):\n",
        "   lower_power = math.floor(math.log2(x))  # Find the largest power of 2 smaller than or equal to x\n",
        "   upper_power = lower_power + 1  # Calculate the next power of 2\n",
        "\n",
        "   lower_distance = abs(x - 2 ** lower_power)  # Calculate the distance to the lower power of 2\n",
        "   upper_distance = abs(x - 2 ** upper_power)  # Calculate the distance to the upper power of 2\n",
        "\n",
        "   if lower_distance < upper_distance or x == 2 ** lower_power:\n",
        "       return 2 ** lower_power\n",
        "   else:\n",
        "       return 2 ** upper_power\n",
        "\n",
        "\n",
        "# Testing the function with the provided test cases\n",
        "print(nrst_two(8))      # Output: 8\n",
        "print(nrst_two(11.5))   # Output: 8\n",
        "print(nrst_two(14))     # Output: 16\n",
        "print(nrst_two(2019))   # Output: 2048\n",
        "print(nrst_two(0.1))    # Output: 0.125\n",
        "print(nrst_two(0.75))   # Output: 1\n",
        "print(nrst_two(1.5))    # Output: 2\n"
      ],
      "metadata": {
        "id": "KjhWBK0u-ltm"
      },
      "execution_count": null,
      "outputs": []
    },
    {
      "cell_type": "code",
      "source": [
        "#8\n",
        "def is_plndrm(n):\n",
        "   # Convert n to a string\n",
        "   n_str = str(n)\n",
        "\n",
        "   # Base case: Empty string or single-character string is a palindrome\n",
        "   if len(n_str) <= 1:\n",
        "       return True\n",
        "\n",
        "   # Recursive case: Check if the first and last characters are equal\n",
        "   if n_str[0] == n_str[-1]:\n",
        "       # Remove the first and last characters and check recursively\n",
        "       return is_plndrm(n_str[1:-1])\n",
        "\n",
        "   return False\n",
        "\n",
        "\n",
        "print(is_plndrm(45654))   # Output: True\n",
        "print(is_plndrm(42))      # Output: False\n",
        "print(is_plndrm(2019))    # Output: False\n",
        "print(is_plndrm(10101))   # Output: True\n"
      ],
      "metadata": {
        "id": "-6ttFw0Y-rcz"
      },
      "execution_count": null,
      "outputs": []
    },
    {
      "cell_type": "code",
      "source": [
        "#9\n",
        "def is_plndrm(n):\n",
        "   # Convert n to a string\n",
        "   n_str = str(n)\n",
        "\n",
        "   # Base case: Empty string or single-character string is a palindrome\n",
        "   if len(n_str) <= 1:\n",
        "       return True\n",
        "\n",
        "   # Recursive case: Check if the first and last characters are equal\n",
        "   if n_str[0] == n_str[-1]:\n",
        "       # Remove the first and last characters and check recursively\n",
        "       return is_plndrm(n_str[1:-1])\n",
        "\n",
        "   return False\n",
        "\n",
        "\n",
        "print(is_plndrm(45654))   # Output: True\n",
        "print(is_plndrm(42))      # Output: False\n",
        "print(is_plndrm(2019))    # Output: False\n",
        "print(is_plndrm(10101))   # Output: True\n"
      ],
      "metadata": {
        "id": "3r-lHagw-w_E"
      },
      "execution_count": null,
      "outputs": []
    }
  ]
}